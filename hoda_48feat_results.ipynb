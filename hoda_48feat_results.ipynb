{
  "cells": [
    {
      "cell_type": "markdown",
      "metadata": {
        "id": "Ty-rH0wQrBjD"
      },
      "source": [
        "# **Import required modules and classes**"
      ]
    },
    {
      "cell_type": "code",
      "execution_count": null,
      "metadata": {
        "id": "EUIPzzIsEqCz"
      },
      "outputs": [],
      "source": [
        "import matplotlib.pyplot as plt\n",
        "import numpy as np\n",
        "import cv2\n",
        "from scipy import ndimage, misc\n",
        "from scipy.ndimage import gaussian_filter\n",
        "from skimage.feature import hog\n",
        "\n",
        "import pickle\n",
        "from sklearn.metrics import classification_report\n",
        "from sklearn.metrics import accuracy_score\n",
        "from sklearn import svm\n",
        "import time\n",
        "from sklearn.model_selection import train_test_split\n",
        "import pandas as pd\n",
        "from sklearn.decomposition import PCA\n",
        "\n",
        "import plotly.graph_objects as go\n",
        "from plotly.subplots import make_subplots\n",
        "\n",
        "%matplotlib inline"
      ]
    },
    {
      "cell_type": "markdown",
      "metadata": {
        "id": "0XJa7NSL2mVT"
      },
      "source": [
        "# **LOAD HODA DATASET**"
      ]
    },
    {
      "cell_type": "markdown",
      "metadata": {
        "id": "Twqx2OA0TLsf"
      },
      "source": [
        "**Load and Read the dataset** "
      ]
    },
    {
      "cell_type": "code",
      "execution_count": null,
      "metadata": {
        "id": "iSis0rMY2bNh"
      },
      "outputs": [],
      "source": [
        "\n",
        "with open('labels.pkl', 'rb') as lbs:\n",
        "  labels = pickle.load(lbs)\n",
        "  \n",
        "# Convert the labels list into numpy array\n",
        "labels = np.array(labels)\n",
        "\n",
        "with open('images.pkl', 'rb') as imgs:\n",
        "  images = pickle.load(imgs)"
      ]
    },
    {
      "cell_type": "markdown",
      "metadata": {
        "id": "saw_KG5CTDGW"
      },
      "source": [
        "**Explore the dataset**"
      ]
    },
    {
      "cell_type": "code",
      "execution_count": null,
      "metadata": {
        "colab": {
          "base_uri": "https://localhost:8080/",
          "height": 1000
        },
        "id": "XkgnpGp35Igx",
        "outputId": "cccc1c4b-cc29-4c54-885c-b0217775768f"
      },
      "outputs": [
        {
          "output_type": "stream",
          "name": "stdout",
          "text": [
            "type(images):  <class 'list'>\n",
            "len(images):  80000\n",
            "\n",
            "type(labels):  <class 'numpy.ndarray'>\n",
            "len(labels):  80000\n",
            "\n",
            "----------------------------------------\n",
            "\n",
            "type(images[ 0 ]): <class 'numpy.ndarray'>\n",
            "images[ 0 ].dtype: uint8\n",
            "images[ 0 ].min(): 0\n",
            "images[ 0 ].max(): 255\n",
            "images[ 0 ].shape = (HEIGHT, WIDTH): (27, 20)\n",
            "\n",
            "type(labels[ 0 ]): <class 'numpy.int64'>\n",
            "labels[ 0 ]: 6\n",
            "\n",
            "----------------------------------------\n",
            "\n",
            "type(images[ 1 ]): <class 'numpy.ndarray'>\n",
            "images[ 1 ].dtype: uint8\n",
            "images[ 1 ].min(): 0\n",
            "images[ 1 ].max(): 255\n",
            "images[ 1 ].shape = (HEIGHT, WIDTH): (20, 21)\n",
            "\n",
            "type(labels[ 1 ]): <class 'numpy.int64'>\n",
            "labels[ 1 ]: 5\n",
            "\n",
            "----------------------------------------\n",
            "\n",
            "type(images[ 2 ]): <class 'numpy.ndarray'>\n",
            "images[ 2 ].dtype: uint8\n",
            "images[ 2 ].min(): 0\n",
            "images[ 2 ].max(): 255\n",
            "images[ 2 ].shape = (HEIGHT, WIDTH): (10, 15)\n",
            "\n",
            "type(labels[ 2 ]): <class 'numpy.int64'>\n",
            "labels[ 2 ]: 0\n",
            "\n",
            "----------------------------------------\n",
            "\n",
            "type(images[ 3 ]): <class 'numpy.ndarray'>\n",
            "images[ 3 ].dtype: uint8\n",
            "images[ 3 ].min(): 0\n",
            "images[ 3 ].max(): 255\n",
            "images[ 3 ].shape = (HEIGHT, WIDTH): (36, 17)\n",
            "\n",
            "type(labels[ 3 ]): <class 'numpy.int64'>\n",
            "labels[ 3 ]: 2\n",
            "\n"
          ]
        },
        {
          "output_type": "display_data",
          "data": {
            "text/plain": [
              "<Figure size 1080x288 with 4 Axes>"
            ],
            "image/png": "[encoded data removed]"
          },
          "metadata": {
            "needs_background": "light"
          }
        }
      ],
      "source": [
        "print('type(images): ', type(images))\n",
        "print('len(images): ', len(images))\n",
        "print()\n",
        "\n",
        "print('type(labels): ', type(labels))\n",
        "print('len(labels): ', len(labels))\n",
        "print()\n",
        "\n",
        "# Show samples of the dataset\n",
        "\n",
        "fig = plt.figure(figsize=(15, 4))\n",
        "\n",
        "for i in range(4):\n",
        "\n",
        "    print('----------------------------------------')\n",
        "    print()\n",
        "\n",
        "    print('type(images[', i, ']):', type(images[i]))\n",
        "    print('images[', i, '].dtype:', images[i].dtype)\n",
        "    print('images[', i, '].min():', images[i].min())\n",
        "    print('images[', i, '].max():', images[i].max())\n",
        "    print('images[', i, '].shape = (HEIGHT, WIDTH):', images[i].shape)\n",
        "    print()\n",
        "\n",
        "    print('type(labels[', i, ']):', type(labels[i]))\n",
        "    print('labels[', i, ']:', labels[i])\n",
        "    print()\n",
        "\n",
        "    fig.add_subplot(1, 4, i + 1)\n",
        "    plt.title('labels[' + str(i) + '] = ' + str(labels[i]))\n",
        "    plt.imshow(images[i], cmap='gray')\n",
        "\n",
        "plt.show()"
      ]
    },
    {
      "cell_type": "markdown",
      "metadata": {
        "id": "p22txXjGE_Sn"
      },
      "source": [
        "# **Define Functions for preprocessing and Features extraction**"
      ]
    },
    {
      "cell_type": "markdown",
      "metadata": {
        "id": "yBlrdHkfFVIe"
      },
      "source": [
        "**Resize**"
      ]
    },
    {
      "cell_type": "code",
      "execution_count": null,
      "metadata": {
        "id": "qIjLlpxH62_9"
      },
      "outputs": [],
      "source": [
        "def resizeImage(image):\n",
        "    image = cv2.resize(image, (56,56))\n",
        "    image = np.pad(image, pad_width=4,constant_values = 255)\n",
        "    return image\n"
      ]
    },
    {
      "cell_type": "markdown",
      "metadata": {
        "id": "UHBtMbs8FYjd"
      },
      "source": [
        "**Sobel filter**"
      ]
    },
    {
      "cell_type": "code",
      "execution_count": null,
      "metadata": {
        "id": "PaRuJU4fD4iZ"
      },
      "outputs": [],
      "source": [
        "def sobel(img):\n",
        "\n",
        "   #horizontal mask\n",
        "    hsobel_filter = np.array([[-1, 0, 1],[-2, 0, 2],[-1, 0, 1]])/8.\n",
        "\n",
        "    #Vertical mask\n",
        "\n",
        "    vsobel_filter = np.array([[-1, -2, -1],[ 0,  0,  0],[ 1,  2,  1]])/8.\n",
        "\n",
        "    img = np.array(img, dtype=np.float)\n",
        "    if img.ndim != 2:\n",
        "        raise ValueError('sobel: Only available for 2-dimensional images')\n",
        "\n",
        "    max = img.max()\n",
        "    img /= max\n",
        "    \n",
        "    vfiltered = ndimage.convolve(img, vsobel_filter, mode='reflect')\n",
        "    hfiltered = ndimage.convolve(img, hsobel_filter, mode='reflect')\n",
        "    vfiltered **= 2\n",
        "    hfiltered **= 2\n",
        "    filtered = vfiltered\n",
        "    filtered += hfiltered\n",
        "    return filtered"
      ]
    },
    {
      "cell_type": "markdown",
      "metadata": {
        "id": "3wG5HV07FfCB"
      },
      "source": [
        "**DoG fillter**"
      ]
    },
    {
      "cell_type": "code",
      "execution_count": null,
      "metadata": {
        "id": "pEH4mVuUC6qh"
      },
      "outputs": [],
      "source": [
        "def dog(img , sigma1,sigma2 ):\n",
        "    img = np.array(img, dtype=np.float)\n",
        "    if img.ndim != 2:\n",
        "        raise ValueError('DoG: Only available for 2-dimensional images')\n",
        "    \n",
        "    if sigma1 == None or  sigma2 == None:\n",
        "        raise ValueError('Input the values of sigma1 and sigma2')\n",
        " \n",
        "    G1 = gaussian_filter(img, sigma1, mode = 'nearest')\n",
        "    G2 = gaussian_filter(img, sigma2, mode = 'nearest')\n",
        "    DoG = G2 - G1\n",
        "    \n",
        "    return DoG\n",
        "\n"
      ]
    },
    {
      "cell_type": "markdown",
      "metadata": {
        "id": "bFNbbiOAFwy1"
      },
      "source": [
        "**Original HOG**"
      ]
    },
    {
      "cell_type": "code",
      "execution_count": null,
      "metadata": {
        "id": "jBD-EcjUFs1d"
      },
      "outputs": [],
      "source": [
        "def fd_hog(image):\n",
        "  \n",
        "    fv_hog = hog(image, orientations=3, pixels_per_cell=(16, 16),cells_per_block=(4,4),block_norm= 'L1-sqrt' ,transform_sqrt = False)\n",
        "\n",
        "    return fv_hog"
      ]
    },
    {
      "cell_type": "markdown",
      "metadata": {
        "id": "JkWFMyqhFn86"
      },
      "source": [
        "**Improved HOG**"
      ]
    },
    {
      "cell_type": "code",
      "execution_count": null,
      "metadata": {
        "id": "2Z_rqdbZE8wC"
      },
      "outputs": [],
      "source": [
        "def fd_ihog(image):\n",
        "    \n",
        "    image = sobel(image)\n",
        "    image = dog(image,0.949,3.84)  \n",
        "    fv_ihog = hog(image, orientations=3, pixels_per_cell=(16, 16),cells_per_block=(4,4),block_norm= 'L1-sqrt' ,transform_sqrt = False)\n",
        "    \n",
        "    return fv_ihog"
      ]
    },
    {
      "cell_type": "markdown",
      "metadata": {
        "id": "BSXDwjxbt4a6"
      },
      "source": [
        "# **Features Extraction**"
      ]
    },
    {
      "cell_type": "code",
      "execution_count": null,
      "metadata": {
        "colab": {
          "base_uri": "https://localhost:8080/"
        },
        "id": "RiabIXWttILI",
        "outputId": "fe0af5d2-d550-4a90-b063-60e257db2438"
      },
      "outputs": [
        {
          "output_type": "stream",
          "name": "stderr",
          "text": [
            "/usr/local/lib/python3.7/dist-packages/ipykernel_launcher.py:10: DeprecationWarning: `np.float` is a deprecated alias for the builtin `float`. To silence this warning, use `float` by itself. Doing this will not modify any behavior and is safe. If you specifically wanted the numpy scalar type, use `np.float64` here.\n",
            "Deprecated in NumPy 1.20; for more details and guidance: https://numpy.org/devdocs/release/1.20.0-notes.html#deprecations\n",
            "  # Remove the CWD from sys.path while we load stuff.\n",
            "/usr/local/lib/python3.7/dist-packages/ipykernel_launcher.py:2: DeprecationWarning: `np.float` is a deprecated alias for the builtin `float`. To silence this warning, use `float` by itself. Doing this will not modify any behavior and is safe. If you specifically wanted the numpy scalar type, use `np.float64` here.\n",
            "Deprecated in NumPy 1.20; for more details and guidance: https://numpy.org/devdocs/release/1.20.0-notes.html#deprecations\n",
            "  \n"
          ]
        }
      ],
      "source": [
        "feat_hog = [fd_hog(resizeImage(im)) for im in images]\n",
        "feat_ihog= [fd_ihog(resizeImage(im)) for im in images]\n",
        "\n",
        "# Original HOG features vector\n",
        "feat_hog = np.array(feat_hog)\n",
        "\n",
        "# Improved HOG features vector\n",
        "feat_ihog=  np.array(feat_ihog)"
      ]
    },
    {
      "cell_type": "markdown",
      "metadata": {
        "id": "yG-kst7ixlU6"
      },
      "source": [
        "# **Visualisation**"
      ]
    },
    {
      "cell_type": "markdown",
      "metadata": {
        "id": "uIuObeLm0C_X"
      },
      "source": [
        "**SOBEL+DoG**"
      ]
    },
    {
      "cell_type": "code",
      "execution_count": null,
      "metadata": {
        "colab": {
          "base_uri": "https://localhost:8080/",
          "height": 391
        },
        "id": "N_haHoL40Ao_",
        "outputId": "7919ca91-3880-4d7f-cf14-a491037d5346"
      },
      "outputs": [
        {
          "output_type": "stream",
          "name": "stderr",
          "text": [
            "/usr/local/lib/python3.7/dist-packages/ipykernel_launcher.py:10: DeprecationWarning: `np.float` is a deprecated alias for the builtin `float`. To silence this warning, use `float` by itself. Doing this will not modify any behavior and is safe. If you specifically wanted the numpy scalar type, use `np.float64` here.\n",
            "Deprecated in NumPy 1.20; for more details and guidance: https://numpy.org/devdocs/release/1.20.0-notes.html#deprecations\n",
            "  # Remove the CWD from sys.path while we load stuff.\n",
            "/usr/local/lib/python3.7/dist-packages/ipykernel_launcher.py:2: DeprecationWarning: `np.float` is a deprecated alias for the builtin `float`. To silence this warning, use `float` by itself. Doing this will not modify any behavior and is safe. If you specifically wanted the numpy scalar type, use `np.float64` here.\n",
            "Deprecated in NumPy 1.20; for more details and guidance: https://numpy.org/devdocs/release/1.20.0-notes.html#deprecations\n",
            "  \n"
          ]
        },
        {
          "output_type": "display_data",
          "data": {
            "text/plain": [
              "<Figure size 864x288 with 3 Axes>"
            ],
            "image/png": "[encoded data removed]"
          },
          "metadata": {
            "needs_background": "light"
          }
        }
      ],
      "source": [
        "image = images[1]\n",
        "image = resizeImage(image)\n",
        "s= sobel(image)\n",
        "d = dog(s,0.949,3.84)\n",
        "\n",
        "\n",
        "fig, (ax1, ax2,ax3) = plt.subplots(1, 3, figsize=(12, 4), sharex=True, sharey=True)\n",
        "\n",
        "ax1.axis('on')\n",
        "ax1.imshow(image, cmap=plt.cm.gray)\n",
        "ax1.set_title('(A) ')\n",
        "\n",
        "\n",
        "ax2.axis('on')\n",
        "ax2.imshow(s, cmap=plt.cm.gray)\n",
        "ax2.set_title('(B)')\n",
        "\n",
        "ax3.axis('on')\n",
        "ax3.imshow(d, cmap=plt.cm.gray)\n",
        "ax3.set_title('(C)')\n",
        "plt.savefig('digit_sobel_dog.png', dpi=300)\n",
        "plt.show()\n"
      ]
    },
    {
      "cell_type": "markdown",
      "metadata": {
        "id": "kricXSj2xw8l"
      },
      "source": [
        "**Effect of HOG algorithm parameters**"
      ]
    },
    {
      "cell_type": "code",
      "execution_count": null,
      "metadata": {
        "colab": {
          "base_uri": "https://localhost:8080/",
          "height": 261
        },
        "id": "bU9ejWTfxqYT",
        "outputId": "97dcd33e-8f5b-4537-85b9-539aa393bf29"
      },
      "outputs": [
        {
          "output_type": "display_data",
          "data": {
            "text/plain": [
              "<Figure size 864x288 with 3 Axes>"
            ],
            "image/png": "[encoded data removed]"
          },
          "metadata": {
            "needs_background": "light"
          }
        }
      ],
      "source": [
        "image = images[1]\n",
        "image = resizeImage(image)\n",
        "\n",
        "fd1, hog_image1 = hog(image, orientations=5, pixels_per_cell=(6, 6),cells_per_block=(2,2),block_norm= 'L2' ,transform_sqrt = False,visualize=True)\n",
        "fd2, hog_image2= hog(image, orientations=8, pixels_per_cell=(8, 8),cells_per_block=(8,8),block_norm= 'L1-sqrt' ,transform_sqrt = False,visualize=True)\n",
        "fd3, hog_image3= hog(image, orientations=2, pixels_per_cell=(16, 16),cells_per_block=(4,4),block_norm= 'L1-sqrt' ,transform_sqrt = False,visualize=True)\n",
        "\n",
        "\n",
        "\n",
        "fig, (ax1, ax2,ax3) = plt.subplots(1, 3, figsize=(12, 4), sharex=True, sharey=True)\n",
        "\n",
        "ax1.axis('on')\n",
        "ax1.imshow(hog_image1, cmap=plt.cm.gray)\n",
        "ax1.set_title('(A) ')\n",
        "\n",
        "\n",
        "ax2.axis('on')\n",
        "ax2.imshow(hog_image2, cmap=plt.cm.gray)\n",
        "ax2.set_title('(B)')\n",
        "\n",
        "ax3.axis('on')\n",
        "ax3.imshow(hog_image3, cmap=plt.cm.gray)\n",
        "ax3.set_title('(C)')\n",
        "plt.show()\n"
      ]
    },
    {
      "cell_type": "markdown",
      "metadata": {
        "id": "cZwslTzuyOt7"
      },
      "source": [
        "**Comparison between detected features in Original HOG image and Improved HOG image**"
      ]
    },
    {
      "cell_type": "code",
      "execution_count": null,
      "metadata": {
        "colab": {
          "base_uri": "https://localhost:8080/",
          "height": 396
        },
        "id": "02Q6N8C6yOKT",
        "outputId": "d934805b-bd27-4ffa-ee47-7e7d5d88ecda"
      },
      "outputs": [
        {
          "output_type": "stream",
          "name": "stderr",
          "text": [
            "/usr/local/lib/python3.7/dist-packages/ipykernel_launcher.py:10: DeprecationWarning: `np.float` is a deprecated alias for the builtin `float`. To silence this warning, use `float` by itself. Doing this will not modify any behavior and is safe. If you specifically wanted the numpy scalar type, use `np.float64` here.\n",
            "Deprecated in NumPy 1.20; for more details and guidance: https://numpy.org/devdocs/release/1.20.0-notes.html#deprecations\n",
            "  # Remove the CWD from sys.path while we load stuff.\n",
            "/usr/local/lib/python3.7/dist-packages/ipykernel_launcher.py:2: DeprecationWarning: `np.float` is a deprecated alias for the builtin `float`. To silence this warning, use `float` by itself. Doing this will not modify any behavior and is safe. If you specifically wanted the numpy scalar type, use `np.float64` here.\n",
            "Deprecated in NumPy 1.20; for more details and guidance: https://numpy.org/devdocs/release/1.20.0-notes.html#deprecations\n",
            "  \n"
          ]
        },
        {
          "output_type": "display_data",
          "data": {
            "image/png": "[encoded data removed]",
            "text/plain": [
              "<Figure size 576x288 with 2 Axes>"
            ]
          },
          "metadata": {
            "needs_background": "light"
          }
        }
      ],
      "source": [
        "image = images[0]\n",
        "image = resizeImage(image)\n",
        "\n",
        "fd1, hog_image1 = hog(image, orientations=3, pixels_per_cell=(16, 16),cells_per_block=(4,4),block_norm= 'L2' ,transform_sqrt = False,visualize=True)\n",
        "image = sobel(image)\n",
        "image = dog(image,0.55,3.2) \n",
        "\n",
        "fd2, hog_image2= hog(image, orientations=3, pixels_per_cell=(16,16),cells_per_block=(4,4),block_norm= 'L1-sqrt' ,transform_sqrt = False,visualize=True)\n",
        "\n",
        "\n",
        "\n",
        "\n",
        "\n",
        "fig, (ax1, ax2) = plt.subplots(1, 2, figsize=(8, 4), sharex=True, sharey=True)\n",
        "\n",
        "ax1.axis('on')\n",
        "ax1.imshow(hog_image1, cmap=plt.cm.gray)\n",
        "ax1.set_title('(A) ')\n",
        "\n",
        "\n",
        "ax2.axis('on')\n",
        "ax2.imshow(hog_image2, cmap=plt.cm.gray)\n",
        "ax2.set_title('(B)')\n",
        "\n",
        "\n",
        "plt.savefig('HOG_IHOG_1.png', dpi=300)\n",
        "plt.show()\n"
      ]
    },
    {
      "cell_type": "markdown",
      "metadata": {
        "id": "HyfB2X1xyKND"
      },
      "source": [
        "# *** Classification***"
      ]
    },
    {
      "cell_type": "markdown",
      "metadata": {
        "id": "lTQPbezPwfdC"
      },
      "source": [
        "**Classification with Original HOG features**"
      ]
    },
    {
      "cell_type": "code",
      "execution_count": null,
      "metadata": {
        "colab": {
          "base_uri": "https://localhost:8080/"
        },
        "id": "z52T1BXBu2Pt",
        "outputId": "7f3feeb6-5b25-4152-df3e-e15a264f7f58"
      },
      "outputs": [
        {
          "output_type": "stream",
          "name": "stdout",
          "text": [
            "[INFO] The number of features ...48\n",
            "[INFO] The number of training samples ...60000\n",
            "[INFO] The number of training samples ...20000\n",
            "--- 13.108498573303223 seconds ---\n",
            "[INFO] evaluating...\n",
            "              precision    recall  f1-score   support\n",
            "\n",
            "           0     0.9935    0.9920    0.9927      2000\n",
            "           1     0.9970    0.9975    0.9973      2000\n",
            "           2     0.9885    0.9915    0.9900      2000\n",
            "           3     0.9935    0.9885    0.9910      2000\n",
            "           4     0.9900    0.9940    0.9920      2000\n",
            "           5     0.9930    0.9940    0.9935      2000\n",
            "           6     0.9955    0.9900    0.9927      2000\n",
            "           7     0.9970    0.9980    0.9975      2000\n",
            "           8     1.0000    0.9995    0.9997      2000\n",
            "           9     0.9935    0.9965    0.9950      2000\n",
            "\n",
            "    accuracy                         0.9941     20000\n",
            "   macro avg     0.9942    0.9941    0.9941     20000\n",
            "weighted avg     0.9942    0.9941    0.9941     20000\n",
            "\n",
            "Accuracy: 99.4150%\n"
          ]
        }
      ],
      "source": [
        "# Perform a training and testing split, using \n",
        "# 60,000 samples of training\n",
        "# 20,000 for evaluation\n",
        "\n",
        "################################################################################\n",
        "################################################################################\n",
        "\n",
        "(trainX, testX, trainY, testY) = train_test_split(feat_hog, labels,test_size=0.25,random_state=0,stratify = labels)\n",
        "print(\"[INFO] The number of features ...\" + str(feat_ihog.shape[1]))\n",
        "print(\"[INFO] The number of training samples ...\" + str(trainX.shape[0]))\n",
        "print(\"[INFO] The number of training samples ...\" + str(testX.shape[0]))\n",
        "\n",
        "################################################################################\n",
        "################################################################################\n",
        "\n",
        "\n",
        "clf = svm.SVC(C= 5.403,kernel='rbf',gamma= 'scale' , decision_function_shape='ovr')\n",
        "\n",
        "start_time = time.time()\n",
        "model = clf.fit(trainX, trainY)\n",
        "print(\"--- %s seconds ---\" % (time.time() - start_time))\n",
        "\n",
        "# make predictions on our data and show a classification report 5.403\n",
        "print(\"[INFO] evaluating...\")\n",
        "predictions = model.predict(testX)\n",
        "#print(testY,predictions3,le.classes_)\n",
        "\n",
        "\n",
        "report = classification_report(testY, predictions,digits=4)\n",
        "\n",
        "print(report)\n",
        "\n",
        "acc = accuracy_score(testY, predictions)\n",
        "print(\"Accuracy: %.4f%%\" % (acc * 100.0))\n"
      ]
    },
    {
      "cell_type": "markdown",
      "metadata": {
        "id": "5-ccmtpoxBS3"
      },
      "source": [
        "**Classification with Improved HOG features**"
      ]
    },
    {
      "cell_type": "code",
      "execution_count": null,
      "metadata": {
        "colab": {
          "base_uri": "https://localhost:8080/"
        },
        "id": "65I1Am9ow6fM",
        "outputId": "34f4484f-099d-426c-d61b-789b48380b98"
      },
      "outputs": [
        {
          "output_type": "stream",
          "name": "stdout",
          "text": [
            "[INFO] The number of features ...48\n",
            "[INFO] The number of training samples ...60000\n",
            "[INFO] The number of training samples ...20000\n",
            "--- 8.019634485244751 seconds ---\n",
            "[INFO] evaluating...\n",
            "              precision    recall  f1-score   support\n",
            "\n",
            "           0     0.9975    0.9975    0.9975      2000\n",
            "           1     0.9980    0.9985    0.9983      2000\n",
            "           2     0.9906    0.9960    0.9933      2000\n",
            "           3     0.9965    0.9905    0.9935      2000\n",
            "           4     0.9950    0.9975    0.9963      2000\n",
            "           5     0.9985    0.9975    0.9980      2000\n",
            "           6     0.9975    0.9950    0.9962      2000\n",
            "           7     0.9980    0.9990    0.9985      2000\n",
            "           8     0.9995    0.9995    0.9995      2000\n",
            "           9     0.9965    0.9965    0.9965      2000\n",
            "\n",
            "    accuracy                         0.9968     20000\n",
            "   macro avg     0.9968    0.9967    0.9967     20000\n",
            "weighted avg     0.9968    0.9968    0.9967     20000\n",
            "\n",
            "Accuracy: 99.6750%\n"
          ]
        }
      ],
      "source": [
        "# Perform a training and testing split, using 80000 samples of training\n",
        "# using 20000 for evaluation\n",
        "\n",
        "(trainX, testX, trainY, testY) = train_test_split(feat_ihog, labels,test_size=0.25,random_state=0,stratify = labels)\n",
        "\n",
        "print(\"[INFO] The number of features ...\" + str(feat_ihog.shape[1]))\n",
        "print(\"[INFO] The number of training samples ...\" + str(trainX.shape[0]))\n",
        "print(\"[INFO] The number of training samples ...\" + str(testX.shape[0]))\n",
        "\n",
        "clf = svm.SVC(C= 5.403,kernel='rbf',gamma= 'scale' , decision_function_shape='ovr')\n",
        "\n",
        "start_time = time.time()\n",
        "model = clf.fit(trainX, trainY)\n",
        "print(\"--- %s seconds ---\" % (time.time() - start_time))\n",
        "\n",
        "# make predictions on our data and show a classification report 5.403\n",
        "print(\"[INFO] evaluating...\")\n",
        "predictions = model.predict(testX)\n",
        "#print(testY,predictions3,le.classes_)\n",
        "\n",
        "\n",
        "report = classification_report(testY, predictions,digits=4)\n",
        "\n",
        "print(report)\n",
        "\n",
        "acc = accuracy_score(testY, predictions)\n",
        "print(\"Accuracy: %.4f%%\" % (acc * 100.0))\n"
      ]
    },
    {
      "cell_type": "markdown",
      "metadata": {
        "id": "TBqtfDnB15oe"
      },
      "source": [
        "# **Dimensionality reduction**"
      ]
    },
    {
      "cell_type": "code",
      "execution_count": null,
      "metadata": {
        "id": "eE6k5mlnuZpi"
      },
      "outputs": [],
      "source": [
        "\n",
        "def dim_redu(f_train_hog,f_test_hog,train_labels,test_labels):\n",
        "\n",
        "    # Initialise a list of accuracies, number of  features, training time and testing time for each dimension \n",
        "    # of features vector\n",
        "    accuracy = []\n",
        "    cp = []\n",
        "    train_time = []\n",
        "    test_time = []\n",
        "    gm = []\n",
        "    trainY = train_labels\n",
        "    testY = test_labels\n",
        "\n",
        "\n",
        "    clf = svm.SVC(C= 5.3284,kernel='rbf',gamma=5.932 , decision_function_shape='ovr')\n",
        "\n",
        "    ncompo = list(range(1,49,1))\n",
        "    for nc in ncompo:\n",
        "\n",
        "        pca = PCA(n_components=nc)\n",
        "        pc = pca.fit(f_train_hog)\n",
        "        trainX = pc.transform(f_train_hog)\n",
        "        testX = pc.transform(f_test_hog)\n",
        "        start_train_time = time.time()\n",
        "        print('##### [INFO] Started the classification the number of  ' + str(nc)+ ' features #####')\n",
        "        model = clf.fit(trainX, trainY)\n",
        "        gmm  = model._gamma\n",
        "        trt = time.time() - start_train_time\n",
        "\n",
        "        start_test_time = time.time()\n",
        "\n",
        "        predictions = model.predict(testX)\n",
        "        tst = time.time() - start_test_time\n",
        "\n",
        "        acc = accuracy_score(testY, predictions)\n",
        "\n",
        "        train_time.append(trt)\n",
        "        test_time.append(tst)\n",
        "        accuracy.append(acc* 100)\n",
        "        cp.append(nc)\n",
        "        gm.append(gmm)\n",
        "        print(\"Accuracy: %.4f%%\" % (acc * 100.0))\n",
        "        print('##### [INFO] Finishied the classification the number of  ' + str(nc)+ 'features #####')\n",
        "      \n",
        "    return accuracy, cp, train_time, test_time,gm\n",
        "\n"
      ]
    },
    {
      "cell_type": "markdown",
      "metadata": {
        "id": "VnjikghNY5Lv"
      },
      "source": [
        "**Dimension reduction for original HOG**"
      ]
    },
    {
      "cell_type": "code",
      "execution_count": null,
      "metadata": {
        "colab": {
          "base_uri": "https://localhost:8080/"
        },
        "id": "EvVS9nFhYx_b",
        "outputId": "44e72942-29fd-4f31-c1bb-70309022b22d"
      },
      "outputs": [
        {
          "output_type": "stream",
          "name": "stdout",
          "text": [
            "##### [INFO] Started the classification the number of  1 features #####\n",
            "Accuracy: 43.7550%\n",
            "##### [INFO] Finishied the classification the number of  1features #####\n",
            "##### [INFO] Started the classification the number of  2 features #####\n",
            "Accuracy: 61.6250%\n",
            "##### [INFO] Finishied the classification the number of  2features #####\n",
            "##### [INFO] Started the classification the number of  3 features #####\n",
            "Accuracy: 76.4050%\n",
            "##### [INFO] Finishied the classification the number of  3features #####\n",
            "##### [INFO] Started the classification the number of  4 features #####\n",
            "Accuracy: 85.9450%\n",
            "##### [INFO] Finishied the classification the number of  4features #####\n",
            "##### [INFO] Started the classification the number of  5 features #####\n",
            "Accuracy: 91.1300%\n",
            "##### [INFO] Finishied the classification the number of  5features #####\n",
            "##### [INFO] Started the classification the number of  6 features #####\n",
            "Accuracy: 94.9100%\n",
            "##### [INFO] Finishied the classification the number of  6features #####\n",
            "##### [INFO] Started the classification the number of  7 features #####\n",
            "Accuracy: 95.7650%\n",
            "##### [INFO] Finishied the classification the number of  7features #####\n",
            "##### [INFO] Started the classification the number of  8 features #####\n",
            "Accuracy: 96.3850%\n",
            "##### [INFO] Finishied the classification the number of  8features #####\n",
            "##### [INFO] Started the classification the number of  9 features #####\n",
            "Accuracy: 96.8650%\n",
            "##### [INFO] Finishied the classification the number of  9features #####\n",
            "##### [INFO] Started the classification the number of  10 features #####\n",
            "Accuracy: 97.8050%\n",
            "##### [INFO] Finishied the classification the number of  10features #####\n",
            "##### [INFO] Started the classification the number of  11 features #####\n",
            "Accuracy: 98.1350%\n",
            "##### [INFO] Finishied the classification the number of  11features #####\n",
            "##### [INFO] Started the classification the number of  12 features #####\n",
            "Accuracy: 98.3350%\n",
            "##### [INFO] Finishied the classification the number of  12features #####\n",
            "##### [INFO] Started the classification the number of  13 features #####\n",
            "Accuracy: 98.7250%\n",
            "##### [INFO] Finishied the classification the number of  13features #####\n",
            "##### [INFO] Started the classification the number of  14 features #####\n",
            "Accuracy: 98.7250%\n",
            "##### [INFO] Finishied the classification the number of  14features #####\n",
            "##### [INFO] Started the classification the number of  15 features #####\n",
            "Accuracy: 98.7900%\n",
            "##### [INFO] Finishied the classification the number of  15features #####\n",
            "##### [INFO] Started the classification the number of  16 features #####\n",
            "Accuracy: 98.8800%\n",
            "##### [INFO] Finishied the classification the number of  16features #####\n",
            "##### [INFO] Started the classification the number of  17 features #####\n",
            "Accuracy: 98.9900%\n",
            "##### [INFO] Finishied the classification the number of  17features #####\n",
            "##### [INFO] Started the classification the number of  18 features #####\n",
            "Accuracy: 99.0150%\n",
            "##### [INFO] Finishied the classification the number of  18features #####\n",
            "##### [INFO] Started the classification the number of  19 features #####\n",
            "Accuracy: 99.1150%\n",
            "##### [INFO] Finishied the classification the number of  19features #####\n",
            "##### [INFO] Started the classification the number of  20 features #####\n",
            "Accuracy: 99.1550%\n",
            "##### [INFO] Finishied the classification the number of  20features #####\n",
            "##### [INFO] Started the classification the number of  21 features #####\n",
            "Accuracy: 99.1550%\n",
            "##### [INFO] Finishied the classification the number of  21features #####\n",
            "##### [INFO] Started the classification the number of  22 features #####\n",
            "Accuracy: 99.1950%\n",
            "##### [INFO] Finishied the classification the number of  22features #####\n",
            "##### [INFO] Started the classification the number of  23 features #####\n",
            "Accuracy: 99.2550%\n",
            "##### [INFO] Finishied the classification the number of  23features #####\n",
            "##### [INFO] Started the classification the number of  24 features #####\n",
            "Accuracy: 99.2950%\n",
            "##### [INFO] Finishied the classification the number of  24features #####\n",
            "##### [INFO] Started the classification the number of  25 features #####\n",
            "Accuracy: 99.3300%\n",
            "##### [INFO] Finishied the classification the number of  25features #####\n",
            "##### [INFO] Started the classification the number of  26 features #####\n",
            "Accuracy: 99.3450%\n",
            "##### [INFO] Finishied the classification the number of  26features #####\n",
            "##### [INFO] Started the classification the number of  27 features #####\n",
            "Accuracy: 99.3350%\n",
            "##### [INFO] Finishied the classification the number of  27features #####\n",
            "##### [INFO] Started the classification the number of  28 features #####\n",
            "Accuracy: 99.3500%\n",
            "##### [INFO] Finishied the classification the number of  28features #####\n",
            "##### [INFO] Started the classification the number of  29 features #####\n",
            "Accuracy: 99.3750%\n",
            "##### [INFO] Finishied the classification the number of  29features #####\n",
            "##### [INFO] Started the classification the number of  30 features #####\n",
            "Accuracy: 99.3800%\n",
            "##### [INFO] Finishied the classification the number of  30features #####\n",
            "##### [INFO] Started the classification the number of  31 features #####\n",
            "Accuracy: 99.3800%\n",
            "##### [INFO] Finishied the classification the number of  31features #####\n",
            "##### [INFO] Started the classification the number of  32 features #####\n",
            "Accuracy: 99.3850%\n",
            "##### [INFO] Finishied the classification the number of  32features #####\n",
            "##### [INFO] Started the classification the number of  33 features #####\n",
            "Accuracy: 99.4050%\n",
            "##### [INFO] Finishied the classification the number of  33features #####\n",
            "##### [INFO] Started the classification the number of  34 features #####\n",
            "Accuracy: 99.3950%\n",
            "##### [INFO] Finishied the classification the number of  34features #####\n",
            "##### [INFO] Started the classification the number of  35 features #####\n",
            "Accuracy: 99.4150%\n",
            "##### [INFO] Finishied the classification the number of  35features #####\n",
            "##### [INFO] Started the classification the number of  36 features #####\n",
            "Accuracy: 99.4050%\n",
            "##### [INFO] Finishied the classification the number of  36features #####\n",
            "##### [INFO] Started the classification the number of  37 features #####\n",
            "Accuracy: 99.4200%\n",
            "##### [INFO] Finishied the classification the number of  37features #####\n",
            "##### [INFO] Started the classification the number of  38 features #####\n",
            "Accuracy: 99.4150%\n",
            "##### [INFO] Finishied the classification the number of  38features #####\n",
            "##### [INFO] Started the classification the number of  39 features #####\n",
            "Accuracy: 99.4200%\n",
            "##### [INFO] Finishied the classification the number of  39features #####\n",
            "##### [INFO] Started the classification the number of  40 features #####\n",
            "Accuracy: 99.4350%\n",
            "##### [INFO] Finishied the classification the number of  40features #####\n",
            "##### [INFO] Started the classification the number of  41 features #####\n",
            "Accuracy: 99.4500%\n",
            "##### [INFO] Finishied the classification the number of  41features #####\n",
            "##### [INFO] Started the classification the number of  42 features #####\n",
            "Accuracy: 99.4750%\n",
            "##### [INFO] Finishied the classification the number of  42features #####\n",
            "##### [INFO] Started the classification the number of  43 features #####\n",
            "Accuracy: 99.4800%\n",
            "##### [INFO] Finishied the classification the number of  43features #####\n",
            "##### [INFO] Started the classification the number of  44 features #####\n",
            "Accuracy: 99.4700%\n",
            "##### [INFO] Finishied the classification the number of  44features #####\n",
            "##### [INFO] Started the classification the number of  45 features #####\n",
            "Accuracy: 99.4700%\n",
            "##### [INFO] Finishied the classification the number of  45features #####\n",
            "##### [INFO] Started the classification the number of  46 features #####\n",
            "Accuracy: 99.4800%\n",
            "##### [INFO] Finishied the classification the number of  46features #####\n",
            "##### [INFO] Started the classification the number of  47 features #####\n",
            "Accuracy: 99.4850%\n",
            "##### [INFO] Finishied the classification the number of  47features #####\n",
            "##### [INFO] Started the classification the number of  48 features #####\n",
            "Accuracy: 99.4850%\n",
            "##### [INFO] Finishied the classification the number of  48features #####\n"
          ]
        }
      ],
      "source": [
        "\n",
        "def dim_redu(f_train_hog,f_test_hog,train_labels,test_labels):\n",
        "\n",
        "    # Initialise a list of accuracies, number of  features, training time and testing time for each dimension \n",
        "    # of features vector\n",
        "\n",
        "    ########################################################################################################\n",
        "    ########################################################################################################\n",
        "\n",
        "    accuracy = []\n",
        "    cp = []\n",
        "    train_time = []\n",
        "    test_time = []\n",
        "\n",
        "    ########################################################################################################\n",
        "    ########################################################################################################\n",
        "\n",
        "    trainY = train_labels\n",
        "    testY = test_labels\n",
        "\n",
        "\n",
        "    clf = svm.SVC(C= 5.3284,kernel='rbf',gamma=5.932 , decision_function_shape='ovr')\n",
        "\n",
        "    ncompo = list(range(1,49,1))\n",
        "    for nc in ncompo:\n",
        "\n",
        "        pca = PCA(n_components=nc)\n",
        "        pc = pca.fit(f_train_hog)\n",
        "        trainX = pc.transform(f_train_hog)\n",
        "        testX = pc.transform(f_test_hog)\n",
        "        start_train_time = time.time()\n",
        "        print('##### [INFO] Started the classification the number of  ' + str(nc)+ ' features #####')\n",
        "        model = clf.fit(trainX, trainY)\n",
        "        gmm  = model._gamma\n",
        "        trt = time.time() - start_train_time\n",
        "\n",
        "        start_test_time = time.time()\n",
        "\n",
        "        predictions = model.predict(testX)\n",
        "        tst = time.time() - start_test_time\n",
        "\n",
        "        acc = accuracy_score(testY, predictions)\n",
        "\n",
        "        train_time.append(trt)\n",
        "        test_time.append(tst)\n",
        "        accuracy.append(acc* 100)\n",
        "        cp.append(nc)\n",
        "        print(\"Accuracy: %.4f%%\" % (acc * 100.0))\n",
        "        print('##### [INFO] Finishied the classification the number of  ' + str(nc)+ 'features #####')\n",
        "      \n",
        "    return accuracy, cp, train_time, test_time\n",
        "\n",
        "\n",
        "########################################################################################################\n",
        "########################################################################################################\n",
        "\n",
        "\n",
        "(trainX, testX, trainY, testY) = train_test_split(feat_hog, labels,test_size=0.25,random_state=0,stratify = labels)\n",
        "accuracy1, cp1, train_time1, test_time1 = dim_redu(trainX,testX,trainY,testY)\n",
        "\n"
      ]
    },
    {
      "cell_type": "code",
      "source": [
        "df1 = pd.DataFrame(list(zip(cp1, accuracy1,train_time1,test_time1)), columns =['number of components', 'Accuracy','Train time', 'Test time']) \n",
        "compression_opts = dict(method='zip', archive_name='HOG_48.csv')  \n",
        "df1.to_csv('HOG_48.zip', index=False,   compression=compression_opts)"
      ],
      "metadata": {
        "id": "V1DxIqSaDZg8"
      },
      "execution_count": null,
      "outputs": []
    },
    {
      "cell_type": "markdown",
      "source": [
        "**Demo**\n"
      ],
      "metadata": {
        "id": "UzTWvd4gMvzo"
      }
    },
    {
      "cell_type": "markdown",
      "source": [
        "unoptimised SVM"
      ],
      "metadata": {
        "id": "3xnFyze_R2Wr"
      }
    },
    {
      "cell_type": "code",
      "source": [
        "# Perform a training and testing split, using 80000 samples of training\n",
        "# using 20000 for evaluation\n",
        "\n",
        "(trainX, testX, trainY, testY) = train_test_split(feat_hog, labels,test_size=0.25,random_state=0,stratify = labels)\n",
        "\n",
        "print(\"[INFO] The original number of features ...\" + str(trainX.shape[1]))\n",
        "\n",
        "pca = PCA(n_components = 47)\n",
        "pc = pca.fit(trainX)\n",
        "trainX = pc.transform(trainX)\n",
        "testX = pc.transform(testX)\n",
        "\n",
        "print(\"[INFO] The number of features after selection ...\" + str(trainX.shape[1]))\n",
        "\n",
        "\n",
        "clf = svm.SVC(C= 5.403,kernel='rbf',gamma= 'scale' , decision_function_shape='ovr')\n",
        "\n",
        "start_time = time.time()\n",
        "model = clf.fit(trainX, trainY)\n",
        "print(\"--- %s seconds ---\" % (time.time() - start_time))\n",
        "\n",
        "# make predictions on our data and show a classification report 5.403\n",
        "print(\"[INFO] evaluating...\")\n",
        "predictions = model.predict(testX)\n",
        "#print(testY,predictions3,le.classes_)\n",
        "\n",
        "\n",
        "report = classification_report(testY, predictions,digits=4)\n",
        "\n",
        "print(report)\n",
        "\n",
        "acc = accuracy_score(testY, predictions)\n",
        "print(\"Accuracy: %.4f%%\" % (acc * 100.0))\n"
      ],
      "metadata": {
        "colab": {
          "base_uri": "https://localhost:8080/"
        },
        "id": "BFafzhlWMzw8",
        "outputId": "d100a9e5-b590-4deb-8d83-0514fca364fa"
      },
      "execution_count": null,
      "outputs": [
        {
          "output_type": "stream",
          "name": "stdout",
          "text": [
            "[INFO] The original number of features ...48\n",
            "[INFO] The number of features after selection ...47\n",
            "--- 13.68920636177063 seconds ---\n",
            "[INFO] evaluating...\n",
            "              precision    recall  f1-score   support\n",
            "\n",
            "           0     0.9930    0.9915    0.9922      2000\n",
            "           1     0.9975    0.9975    0.9975      2000\n",
            "           2     0.9900    0.9915    0.9908      2000\n",
            "           3     0.9930    0.9890    0.9910      2000\n",
            "           4     0.9900    0.9945    0.9923      2000\n",
            "           5     0.9925    0.9935    0.9930      2000\n",
            "           6     0.9955    0.9915    0.9935      2000\n",
            "           7     0.9975    0.9980    0.9978      2000\n",
            "           8     1.0000    0.9995    0.9997      2000\n",
            "           9     0.9940    0.9965    0.9953      2000\n",
            "\n",
            "    accuracy                         0.9943     20000\n",
            "   macro avg     0.9943    0.9943    0.9943     20000\n",
            "weighted avg     0.9943    0.9943    0.9943     20000\n",
            "\n",
            "Accuracy: 99.4300%\n"
          ]
        }
      ]
    },
    {
      "cell_type": "markdown",
      "source": [
        "Optimised SVM (Table 4 in the paper)"
      ],
      "metadata": {
        "id": "DkDmLNNLR6vA"
      }
    },
    {
      "cell_type": "code",
      "source": [
        "# Perform a training and testing split, using 80000 samples of training\n",
        "# using 20000 for evaluation\n",
        "\n",
        "(trainX, testX, trainY, testY) = train_test_split(feat_hog, labels,test_size=0.25,random_state=0,stratify = labels)\n",
        "\n",
        "print(\"[INFO] The original number of features ...\" + str(trainX.shape[1]))\n",
        "\n",
        "pca = PCA(n_components = 47)\n",
        "pc = pca.fit(trainX)\n",
        "trainX = pc.transform(trainX)\n",
        "testX = pc.transform(testX)\n",
        "\n",
        "print(\"[INFO] The number of features after selection ...\" + str(trainX.shape[1]))\n",
        "\n",
        "\n",
        "clf = svm.SVC(C= 5.3284,kernel='rbf',gamma=5.932 , decision_function_shape='ovr')\n",
        "\n",
        "start_time = time.time()\n",
        "model = clf.fit(trainX, trainY)\n",
        "print(\"--- %s seconds ---\" % (time.time() - start_time))\n",
        "\n",
        "# make predictions on our data and show a classification report 5.403\n",
        "print(\"[INFO] evaluating...\")\n",
        "predictions = model.predict(testX)\n",
        "#print(testY,predictions3,le.classes_)\n",
        "\n",
        "\n",
        "report = classification_report(testY, predictions,digits=4)\n",
        "\n",
        "print(report)\n",
        "\n",
        "acc = accuracy_score(testY, predictions)\n",
        "print(\"Accuracy: %.4f%%\" % (acc * 100.0))\n"
      ],
      "metadata": {
        "colab": {
          "base_uri": "https://localhost:8080/"
        },
        "id": "Fw71w0dpR-Bz",
        "outputId": "04d531a1-72ee-4f73-db04-7c8570b53385"
      },
      "execution_count": null,
      "outputs": [
        {
          "output_type": "stream",
          "name": "stdout",
          "text": [
            "[INFO] The original number of features ...48\n",
            "[INFO] The number of features after selection ...47\n",
            "--- 28.304203510284424 seconds ---\n",
            "[INFO] evaluating...\n",
            "              precision    recall  f1-score   support\n",
            "\n",
            "           0     0.9920    0.9920    0.9920      2000\n",
            "           1     0.9975    0.9965    0.9970      2000\n",
            "           2     0.9915    0.9915    0.9915      2000\n",
            "           3     0.9935    0.9910    0.9922      2000\n",
            "           4     0.9925    0.9965    0.9945      2000\n",
            "           5     0.9935    0.9935    0.9935      2000\n",
            "           6     0.9955    0.9930    0.9942      2000\n",
            "           7     0.9980    0.9980    0.9980      2000\n",
            "           8     1.0000    1.0000    1.0000      2000\n",
            "           9     0.9945    0.9965    0.9955      2000\n",
            "\n",
            "    accuracy                         0.9949     20000\n",
            "   macro avg     0.9949    0.9948    0.9948     20000\n",
            "weighted avg     0.9949    0.9949    0.9948     20000\n",
            "\n",
            "Accuracy: 99.4850%\n"
          ]
        }
      ]
    },
    {
      "cell_type": "markdown",
      "metadata": {
        "id": "EUVL3LllZKO3"
      },
      "source": [
        "**Dimension reduction for Improved HOG features**"
      ]
    },
    {
      "cell_type": "code",
      "execution_count": null,
      "metadata": {
        "colab": {
          "base_uri": "https://localhost:8080/",
          "height": 1000
        },
        "id": "LNIqH0qRZF3d",
        "outputId": "5bbb3e6e-aa42-46df-d7bd-c27a5dc64a24"
      },
      "outputs": [
        {
          "output_type": "stream",
          "name": "stdout",
          "text": [
            "##### [INFO] Started the classification the number of  1 features #####\n",
            "Accuracy: 48.4950%\n",
            "##### [INFO] Finishied the classification the number of  1features #####\n",
            "##### [INFO] Started the classification the number of  2 features #####\n",
            "Accuracy: 65.0250%\n",
            "##### [INFO] Finishied the classification the number of  2features #####\n",
            "##### [INFO] Started the classification the number of  3 features #####\n",
            "Accuracy: 81.0250%\n",
            "##### [INFO] Finishied the classification the number of  3features #####\n",
            "##### [INFO] Started the classification the number of  4 features #####\n",
            "Accuracy: 88.2700%\n",
            "##### [INFO] Finishied the classification the number of  4features #####\n",
            "##### [INFO] Started the classification the number of  5 features #####\n",
            "Accuracy: 93.2300%\n",
            "##### [INFO] Finishied the classification the number of  5features #####\n",
            "##### [INFO] Started the classification the number of  6 features #####\n",
            "Accuracy: 95.4450%\n",
            "##### [INFO] Finishied the classification the number of  6features #####\n",
            "##### [INFO] Started the classification the number of  7 features #####\n",
            "Accuracy: 96.2200%\n",
            "##### [INFO] Finishied the classification the number of  7features #####\n",
            "##### [INFO] Started the classification the number of  8 features #####\n",
            "Accuracy: 97.6700%\n",
            "##### [INFO] Finishied the classification the number of  8features #####\n",
            "##### [INFO] Started the classification the number of  9 features #####\n",
            "Accuracy: 98.1150%\n",
            "##### [INFO] Finishied the classification the number of  9features #####\n",
            "##### [INFO] Started the classification the number of  10 features #####\n",
            "Accuracy: 98.5350%\n",
            "##### [INFO] Finishied the classification the number of  10features #####\n",
            "##### [INFO] Started the classification the number of  11 features #####\n",
            "Accuracy: 98.7050%\n",
            "##### [INFO] Finishied the classification the number of  11features #####\n",
            "##### [INFO] Started the classification the number of  12 features #####\n",
            "Accuracy: 98.8900%\n",
            "##### [INFO] Finishied the classification the number of  12features #####\n",
            "##### [INFO] Started the classification the number of  13 features #####\n",
            "Accuracy: 99.0400%\n",
            "##### [INFO] Finishied the classification the number of  13features #####\n",
            "##### [INFO] Started the classification the number of  14 features #####\n",
            "Accuracy: 99.1200%\n",
            "##### [INFO] Finishied the classification the number of  14features #####\n",
            "##### [INFO] Started the classification the number of  15 features #####\n",
            "Accuracy: 99.1800%\n",
            "##### [INFO] Finishied the classification the number of  15features #####\n",
            "##### [INFO] Started the classification the number of  16 features #####\n",
            "Accuracy: 99.2100%\n",
            "##### [INFO] Finishied the classification the number of  16features #####\n",
            "##### [INFO] Started the classification the number of  17 features #####\n",
            "Accuracy: 99.2800%\n",
            "##### [INFO] Finishied the classification the number of  17features #####\n",
            "##### [INFO] Started the classification the number of  18 features #####\n",
            "Accuracy: 99.3250%\n",
            "##### [INFO] Finishied the classification the number of  18features #####\n",
            "##### [INFO] Started the classification the number of  19 features #####\n",
            "Accuracy: 99.3650%\n",
            "##### [INFO] Finishied the classification the number of  19features #####\n",
            "##### [INFO] Started the classification the number of  20 features #####\n",
            "Accuracy: 99.3800%\n",
            "##### [INFO] Finishied the classification the number of  20features #####\n",
            "##### [INFO] Started the classification the number of  21 features #####\n",
            "Accuracy: 99.4350%\n",
            "##### [INFO] Finishied the classification the number of  21features #####\n",
            "##### [INFO] Started the classification the number of  22 features #####\n",
            "Accuracy: 99.4550%\n",
            "##### [INFO] Finishied the classification the number of  22features #####\n",
            "##### [INFO] Started the classification the number of  23 features #####\n",
            "Accuracy: 99.4800%\n",
            "##### [INFO] Finishied the classification the number of  23features #####\n",
            "##### [INFO] Started the classification the number of  24 features #####\n",
            "Accuracy: 99.4700%\n",
            "##### [INFO] Finishied the classification the number of  24features #####\n",
            "##### [INFO] Started the classification the number of  25 features #####\n",
            "Accuracy: 99.4950%\n",
            "##### [INFO] Finishied the classification the number of  25features #####\n",
            "##### [INFO] Started the classification the number of  26 features #####\n",
            "Accuracy: 99.5400%\n",
            "##### [INFO] Finishied the classification the number of  26features #####\n",
            "##### [INFO] Started the classification the number of  27 features #####\n",
            "Accuracy: 99.5450%\n",
            "##### [INFO] Finishied the classification the number of  27features #####\n",
            "##### [INFO] Started the classification the number of  28 features #####\n",
            "Accuracy: 99.5250%\n",
            "##### [INFO] Finishied the classification the number of  28features #####\n",
            "##### [INFO] Started the classification the number of  29 features #####\n",
            "Accuracy: 99.5700%\n",
            "##### [INFO] Finishied the classification the number of  29features #####\n",
            "##### [INFO] Started the classification the number of  30 features #####\n",
            "Accuracy: 99.5750%\n",
            "##### [INFO] Finishied the classification the number of  30features #####\n",
            "##### [INFO] Started the classification the number of  31 features #####\n",
            "Accuracy: 99.5900%\n",
            "##### [INFO] Finishied the classification the number of  31features #####\n",
            "##### [INFO] Started the classification the number of  32 features #####\n",
            "Accuracy: 99.5700%\n",
            "##### [INFO] Finishied the classification the number of  32features #####\n",
            "##### [INFO] Started the classification the number of  33 features #####\n",
            "Accuracy: 99.6100%\n",
            "##### [INFO] Finishied the classification the number of  33features #####\n",
            "##### [INFO] Started the classification the number of  34 features #####\n",
            "Accuracy: 99.6050%\n",
            "##### [INFO] Finishied the classification the number of  34features #####\n",
            "##### [INFO] Started the classification the number of  35 features #####\n",
            "Accuracy: 99.6350%\n",
            "##### [INFO] Finishied the classification the number of  35features #####\n",
            "##### [INFO] Started the classification the number of  36 features #####\n",
            "Accuracy: 99.6350%\n",
            "##### [INFO] Finishied the classification the number of  36features #####\n",
            "##### [INFO] Started the classification the number of  37 features #####\n",
            "Accuracy: 99.6450%\n",
            "##### [INFO] Finishied the classification the number of  37features #####\n",
            "##### [INFO] Started the classification the number of  38 features #####\n",
            "Accuracy: 99.6650%\n",
            "##### [INFO] Finishied the classification the number of  38features #####\n",
            "##### [INFO] Started the classification the number of  39 features #####\n",
            "Accuracy: 99.6550%\n",
            "##### [INFO] Finishied the classification the number of  39features #####\n",
            "##### [INFO] Started the classification the number of  40 features #####\n",
            "Accuracy: 99.6550%\n",
            "##### [INFO] Finishied the classification the number of  40features #####\n",
            "##### [INFO] Started the classification the number of  41 features #####\n",
            "Accuracy: 99.6650%\n",
            "##### [INFO] Finishied the classification the number of  41features #####\n",
            "##### [INFO] Started the classification the number of  42 features #####\n",
            "Accuracy: 99.6550%\n",
            "##### [INFO] Finishied the classification the number of  42features #####\n",
            "##### [INFO] Started the classification the number of  43 features #####\n",
            "Accuracy: 99.6600%\n",
            "##### [INFO] Finishied the classification the number of  43features #####\n",
            "##### [INFO] Started the classification the number of  44 features #####\n",
            "Accuracy: 99.6550%\n",
            "##### [INFO] Finishied the classification the number of  44features #####\n",
            "##### [INFO] Started the classification the number of  45 features #####\n",
            "Accuracy: 99.6600%\n",
            "##### [INFO] Finishied the classification the number of  45features #####\n",
            "##### [INFO] Started the classification the number of  46 features #####\n",
            "Accuracy: 99.6700%\n",
            "##### [INFO] Finishied the classification the number of  46features #####\n",
            "##### [INFO] Started the classification the number of  47 features #####\n",
            "Accuracy: 99.6800%\n",
            "##### [INFO] Finishied the classification the number of  47features #####\n",
            "##### [INFO] Started the classification the number of  48 features #####\n",
            "Accuracy: 99.6750%\n",
            "##### [INFO] Finishied the classification the number of  48features #####\n"
          ]
        },
        {
          "output_type": "error",
          "ename": "ValueError",
          "evalue": "ignored",
          "traceback": [
            "\u001b[0;31m---------------------------------------------------------------------------\u001b[0m",
            "\u001b[0;31mAssertionError\u001b[0m                            Traceback (most recent call last)",
            "\u001b[0;32m/usr/local/lib/python3.7/dist-packages/pandas/core/internals/construction.py\u001b[0m in \u001b[0;36m_finalize_columns_and_data\u001b[0;34m(content, columns, dtype)\u001b[0m\n\u001b[1;32m    905\u001b[0m     \u001b[0;32mtry\u001b[0m\u001b[0;34m:\u001b[0m\u001b[0;34m\u001b[0m\u001b[0;34m\u001b[0m\u001b[0m\n\u001b[0;32m--> 906\u001b[0;31m         \u001b[0mcolumns\u001b[0m \u001b[0;34m=\u001b[0m \u001b[0m_validate_or_indexify_columns\u001b[0m\u001b[0;34m(\u001b[0m\u001b[0mcontents\u001b[0m\u001b[0;34m,\u001b[0m \u001b[0mcolumns\u001b[0m\u001b[0;34m)\u001b[0m\u001b[0;34m\u001b[0m\u001b[0;34m\u001b[0m\u001b[0m\n\u001b[0m\u001b[1;32m    907\u001b[0m     \u001b[0;32mexcept\u001b[0m \u001b[0mAssertionError\u001b[0m \u001b[0;32mas\u001b[0m \u001b[0merr\u001b[0m\u001b[0;34m:\u001b[0m\u001b[0;34m\u001b[0m\u001b[0;34m\u001b[0m\u001b[0m\n",
            "\u001b[0;32m/usr/local/lib/python3.7/dist-packages/pandas/core/internals/construction.py\u001b[0m in \u001b[0;36m_validate_or_indexify_columns\u001b[0;34m(content, columns)\u001b[0m\n\u001b[1;32m    954\u001b[0m             raise AssertionError(\n\u001b[0;32m--> 955\u001b[0;31m                 \u001b[0;34mf\"{len(columns)} columns passed, passed data had \"\u001b[0m\u001b[0;34m\u001b[0m\u001b[0;34m\u001b[0m\u001b[0m\n\u001b[0m\u001b[1;32m    956\u001b[0m                 \u001b[0;34mf\"{len(content)} columns\"\u001b[0m\u001b[0;34m\u001b[0m\u001b[0;34m\u001b[0m\u001b[0m\n",
            "\u001b[0;31mAssertionError\u001b[0m: 5 columns passed, passed data had 4 columns",
            "\nThe above exception was the direct cause of the following exception:\n",
            "\u001b[0;31mValueError\u001b[0m                                Traceback (most recent call last)",
            "\u001b[0;32m<ipython-input-59-8bb0c0f599a8>\u001b[0m in \u001b[0;36m<module>\u001b[0;34m()\u001b[0m\n\u001b[1;32m     58\u001b[0m \u001b[0maccuracy2\u001b[0m\u001b[0;34m,\u001b[0m \u001b[0mcp2\u001b[0m\u001b[0;34m,\u001b[0m \u001b[0mtrain_time2\u001b[0m\u001b[0;34m,\u001b[0m \u001b[0mtest_time2\u001b[0m \u001b[0;34m=\u001b[0m \u001b[0mdim_redu\u001b[0m\u001b[0;34m(\u001b[0m\u001b[0mtrainX\u001b[0m\u001b[0;34m,\u001b[0m\u001b[0mtestX\u001b[0m\u001b[0;34m,\u001b[0m\u001b[0mtrainY\u001b[0m\u001b[0;34m,\u001b[0m\u001b[0mtestY\u001b[0m\u001b[0;34m)\u001b[0m\u001b[0;34m\u001b[0m\u001b[0;34m\u001b[0m\u001b[0m\n\u001b[1;32m     59\u001b[0m \u001b[0;34m\u001b[0m\u001b[0m\n\u001b[0;32m---> 60\u001b[0;31m \u001b[0mdf2\u001b[0m \u001b[0;34m=\u001b[0m \u001b[0mpd\u001b[0m\u001b[0;34m.\u001b[0m\u001b[0mDataFrame\u001b[0m\u001b[0;34m(\u001b[0m\u001b[0mlist\u001b[0m\u001b[0;34m(\u001b[0m\u001b[0mzip\u001b[0m\u001b[0;34m(\u001b[0m\u001b[0mcp2\u001b[0m\u001b[0;34m,\u001b[0m \u001b[0maccuracy2\u001b[0m\u001b[0;34m,\u001b[0m\u001b[0mtrain_time2\u001b[0m\u001b[0;34m,\u001b[0m\u001b[0mtest_time2\u001b[0m\u001b[0;34m)\u001b[0m\u001b[0;34m)\u001b[0m\u001b[0;34m,\u001b[0m \u001b[0mcolumns\u001b[0m \u001b[0;34m=\u001b[0m\u001b[0;34m[\u001b[0m\u001b[0;34m'number of components'\u001b[0m\u001b[0;34m,\u001b[0m \u001b[0;34m'Accuracy'\u001b[0m\u001b[0;34m,\u001b[0m\u001b[0;34m'Train time'\u001b[0m\u001b[0;34m,\u001b[0m \u001b[0;34m'Test time'\u001b[0m\u001b[0;34m,\u001b[0m\u001b[0;34m'gamma'\u001b[0m\u001b[0;34m]\u001b[0m\u001b[0;34m)\u001b[0m\u001b[0;34m\u001b[0m\u001b[0;34m\u001b[0m\u001b[0m\n\u001b[0m\u001b[1;32m     61\u001b[0m \u001b[0mcompression_opts\u001b[0m \u001b[0;34m=\u001b[0m \u001b[0mdict\u001b[0m\u001b[0;34m(\u001b[0m\u001b[0mmethod\u001b[0m\u001b[0;34m=\u001b[0m\u001b[0;34m'zip'\u001b[0m\u001b[0;34m,\u001b[0m \u001b[0marchive_name\u001b[0m\u001b[0;34m=\u001b[0m\u001b[0;34m'IHOG_48.csv'\u001b[0m\u001b[0;34m)\u001b[0m\u001b[0;34m\u001b[0m\u001b[0;34m\u001b[0m\u001b[0m\n\u001b[1;32m     62\u001b[0m \u001b[0mdf2\u001b[0m\u001b[0;34m.\u001b[0m\u001b[0mto_csv\u001b[0m\u001b[0;34m(\u001b[0m\u001b[0;34m'IHOG_48.zip'\u001b[0m\u001b[0;34m,\u001b[0m \u001b[0mindex\u001b[0m\u001b[0;34m=\u001b[0m\u001b[0;32mFalse\u001b[0m\u001b[0;34m,\u001b[0m   \u001b[0mcompression\u001b[0m\u001b[0;34m=\u001b[0m\u001b[0mcompression_opts\u001b[0m\u001b[0;34m)\u001b[0m\u001b[0;34m\u001b[0m\u001b[0;34m\u001b[0m\u001b[0m\n",
            "\u001b[0;32m/usr/local/lib/python3.7/dist-packages/pandas/core/frame.py\u001b[0m in \u001b[0;36m__init__\u001b[0;34m(self, data, index, columns, dtype, copy)\u001b[0m\n\u001b[1;32m    698\u001b[0m                         \u001b[0mcolumns\u001b[0m\u001b[0;34m,\u001b[0m\u001b[0;34m\u001b[0m\u001b[0;34m\u001b[0m\u001b[0m\n\u001b[1;32m    699\u001b[0m                         \u001b[0mindex\u001b[0m\u001b[0;34m,\u001b[0m  \u001b[0;31m# type: ignore[arg-type]\u001b[0m\u001b[0;34m\u001b[0m\u001b[0;34m\u001b[0m\u001b[0m\n\u001b[0;32m--> 700\u001b[0;31m                         \u001b[0mdtype\u001b[0m\u001b[0;34m,\u001b[0m\u001b[0;34m\u001b[0m\u001b[0;34m\u001b[0m\u001b[0m\n\u001b[0m\u001b[1;32m    701\u001b[0m                     )\n\u001b[1;32m    702\u001b[0m                     mgr = arrays_to_mgr(\n",
            "\u001b[0;32m/usr/local/lib/python3.7/dist-packages/pandas/core/internals/construction.py\u001b[0m in \u001b[0;36mnested_data_to_arrays\u001b[0;34m(data, columns, index, dtype)\u001b[0m\n\u001b[1;32m    481\u001b[0m         \u001b[0mcolumns\u001b[0m \u001b[0;34m=\u001b[0m \u001b[0mensure_index\u001b[0m\u001b[0;34m(\u001b[0m\u001b[0mdata\u001b[0m\u001b[0;34m[\u001b[0m\u001b[0;36m0\u001b[0m\u001b[0;34m]\u001b[0m\u001b[0;34m.\u001b[0m\u001b[0m_fields\u001b[0m\u001b[0;34m)\u001b[0m\u001b[0;34m\u001b[0m\u001b[0;34m\u001b[0m\u001b[0m\n\u001b[1;32m    482\u001b[0m \u001b[0;34m\u001b[0m\u001b[0m\n\u001b[0;32m--> 483\u001b[0;31m     \u001b[0marrays\u001b[0m\u001b[0;34m,\u001b[0m \u001b[0mcolumns\u001b[0m \u001b[0;34m=\u001b[0m \u001b[0mto_arrays\u001b[0m\u001b[0;34m(\u001b[0m\u001b[0mdata\u001b[0m\u001b[0;34m,\u001b[0m \u001b[0mcolumns\u001b[0m\u001b[0;34m,\u001b[0m \u001b[0mdtype\u001b[0m\u001b[0;34m=\u001b[0m\u001b[0mdtype\u001b[0m\u001b[0;34m)\u001b[0m\u001b[0;34m\u001b[0m\u001b[0;34m\u001b[0m\u001b[0m\n\u001b[0m\u001b[1;32m    484\u001b[0m     \u001b[0mcolumns\u001b[0m \u001b[0;34m=\u001b[0m \u001b[0mensure_index\u001b[0m\u001b[0;34m(\u001b[0m\u001b[0mcolumns\u001b[0m\u001b[0;34m)\u001b[0m\u001b[0;34m\u001b[0m\u001b[0;34m\u001b[0m\u001b[0m\n\u001b[1;32m    485\u001b[0m \u001b[0;34m\u001b[0m\u001b[0m\n",
            "\u001b[0;32m/usr/local/lib/python3.7/dist-packages/pandas/core/internals/construction.py\u001b[0m in \u001b[0;36mto_arrays\u001b[0;34m(data, columns, dtype)\u001b[0m\n\u001b[1;32m    805\u001b[0m         \u001b[0marr\u001b[0m \u001b[0;34m=\u001b[0m \u001b[0m_list_to_arrays\u001b[0m\u001b[0;34m(\u001b[0m\u001b[0mdata\u001b[0m\u001b[0;34m)\u001b[0m\u001b[0;34m\u001b[0m\u001b[0;34m\u001b[0m\u001b[0m\n\u001b[1;32m    806\u001b[0m \u001b[0;34m\u001b[0m\u001b[0m\n\u001b[0;32m--> 807\u001b[0;31m     \u001b[0mcontent\u001b[0m\u001b[0;34m,\u001b[0m \u001b[0mcolumns\u001b[0m \u001b[0;34m=\u001b[0m \u001b[0m_finalize_columns_and_data\u001b[0m\u001b[0;34m(\u001b[0m\u001b[0marr\u001b[0m\u001b[0;34m,\u001b[0m \u001b[0mcolumns\u001b[0m\u001b[0;34m,\u001b[0m \u001b[0mdtype\u001b[0m\u001b[0;34m)\u001b[0m\u001b[0;34m\u001b[0m\u001b[0;34m\u001b[0m\u001b[0m\n\u001b[0m\u001b[1;32m    808\u001b[0m     \u001b[0;32mreturn\u001b[0m \u001b[0mcontent\u001b[0m\u001b[0;34m,\u001b[0m \u001b[0mcolumns\u001b[0m\u001b[0;34m\u001b[0m\u001b[0;34m\u001b[0m\u001b[0m\n\u001b[1;32m    809\u001b[0m \u001b[0;34m\u001b[0m\u001b[0m\n",
            "\u001b[0;32m/usr/local/lib/python3.7/dist-packages/pandas/core/internals/construction.py\u001b[0m in \u001b[0;36m_finalize_columns_and_data\u001b[0;34m(content, columns, dtype)\u001b[0m\n\u001b[1;32m    907\u001b[0m     \u001b[0;32mexcept\u001b[0m \u001b[0mAssertionError\u001b[0m \u001b[0;32mas\u001b[0m \u001b[0merr\u001b[0m\u001b[0;34m:\u001b[0m\u001b[0;34m\u001b[0m\u001b[0;34m\u001b[0m\u001b[0m\n\u001b[1;32m    908\u001b[0m         \u001b[0;31m# GH#26429 do not raise user-facing AssertionError\u001b[0m\u001b[0;34m\u001b[0m\u001b[0;34m\u001b[0m\u001b[0;34m\u001b[0m\u001b[0m\n\u001b[0;32m--> 909\u001b[0;31m         \u001b[0;32mraise\u001b[0m \u001b[0mValueError\u001b[0m\u001b[0;34m(\u001b[0m\u001b[0merr\u001b[0m\u001b[0;34m)\u001b[0m \u001b[0;32mfrom\u001b[0m \u001b[0merr\u001b[0m\u001b[0;34m\u001b[0m\u001b[0;34m\u001b[0m\u001b[0m\n\u001b[0m\u001b[1;32m    910\u001b[0m \u001b[0;34m\u001b[0m\u001b[0m\n\u001b[1;32m    911\u001b[0m     \u001b[0;32mif\u001b[0m \u001b[0mlen\u001b[0m\u001b[0;34m(\u001b[0m\u001b[0mcontents\u001b[0m\u001b[0;34m)\u001b[0m \u001b[0;32mand\u001b[0m \u001b[0mcontents\u001b[0m\u001b[0;34m[\u001b[0m\u001b[0;36m0\u001b[0m\u001b[0;34m]\u001b[0m\u001b[0;34m.\u001b[0m\u001b[0mdtype\u001b[0m \u001b[0;34m==\u001b[0m \u001b[0mnp\u001b[0m\u001b[0;34m.\u001b[0m\u001b[0mobject_\u001b[0m\u001b[0;34m:\u001b[0m\u001b[0;34m\u001b[0m\u001b[0;34m\u001b[0m\u001b[0m\n",
            "\u001b[0;31mValueError\u001b[0m: 5 columns passed, passed data had 4 columns"
          ]
        }
      ],
      "source": [
        "\n",
        "def dim_redu(f_train_hog,f_test_hog,train_labels,test_labels):\n",
        "\n",
        "    # Initialise a list of accuracies, number of  features, training time and testing time for each dimension \n",
        "    # of features vector\n",
        "    #################################################################################################\n",
        "    #################################################################################################\n",
        "\n",
        "    accuracy = []\n",
        "    cp = []\n",
        "    train_time = []\n",
        "    test_time = []\n",
        "\n",
        "    #################################################################################################\n",
        "    #################################################################################################\n",
        "\n",
        "    trainY = train_labels\n",
        "    testY = test_labels\n",
        "\n",
        "\n",
        "    clf = svm.SVC(C= 6.06,kernel='rbf',gamma=2.865 , decision_function_shape='ovr')\n",
        "    ncompo = list(range(1,49,1))\n",
        "    for nc in ncompo:\n",
        "\n",
        "        pca = PCA(n_components=nc)\n",
        "        pc = pca.fit(f_train_hog)\n",
        "        trainX = pc.transform(f_train_hog)\n",
        "        testX = pc.transform(f_test_hog)\n",
        "        start_train_time = time.time()\n",
        "        print('##### [INFO] Started the classification the number of  ' + str(nc)+ ' features #####')\n",
        "        model = clf.fit(trainX, trainY)\n",
        "        gmm  = model._gamma\n",
        "        trt = time.time() - start_train_time\n",
        "\n",
        "        start_test_time = time.time()\n",
        "\n",
        "        predictions = model.predict(testX)\n",
        "        tst = time.time() - start_test_time\n",
        "\n",
        "        acc = accuracy_score(testY, predictions)\n",
        "\n",
        "        train_time.append(trt)\n",
        "        test_time.append(tst)\n",
        "        accuracy.append(acc* 100)\n",
        "        cp.append(nc)\n",
        "        print(\"Accuracy: %.4f%%\" % (acc * 100.0))\n",
        "        print('##### [INFO] Finishied the classification the number of  ' + str(nc)+ 'features #####')\n",
        "      \n",
        "    return accuracy, cp, train_time, test_time\n",
        "\n",
        "\n",
        "\n",
        "########################################################################################################\n",
        "########################################################################################################\n",
        "\n",
        "(trainX, testX, trainY, testY) = train_test_split(feat_ihog, labels,test_size=0.25,random_state=0,stratify = labels)\n",
        "\n",
        "accuracy2, cp2, train_time2, test_time2 = dim_redu(trainX,testX,trainY,testY)\n"
      ]
    },
    {
      "cell_type": "code",
      "source": [
        "df2 = pd.DataFrame(list(zip(cp2, accuracy2,train_time2,test_time2)), columns =['number of components', 'Accuracy','Train time', 'Test time']) \n",
        "compression_opts = dict(method='zip', archive_name='IHOG_48.csv')  \n",
        "df2.to_csv('IHOG_48.zip', index=False,   compression=compression_opts)"
      ],
      "metadata": {
        "id": "KRpOPq1gYXm5"
      },
      "execution_count": null,
      "outputs": []
    },
    {
      "cell_type": "code",
      "source": [
        "print(\"[INFO] The max accuracy ...\" + str(max(accuracy2)))\n",
        "\n",
        "npc2 = feat_selec(accuracy2)\n",
        "\n",
        "print(\"[INFO] The first principal components correpend to max accuracy ...\" + str(npc2))"
      ],
      "metadata": {
        "colab": {
          "base_uri": "https://localhost:8080/"
        },
        "id": "fTsD-sWhYh97",
        "outputId": "6b98c689-8555-4028-f508-02815b679d68"
      },
      "execution_count": null,
      "outputs": [
        {
          "output_type": "stream",
          "name": "stdout",
          "text": [
            "[INFO] The max accuracy ...99.68\n",
            "[INFO] The first principal components correpend to max accuracy ...47\n"
          ]
        }
      ]
    },
    {
      "cell_type": "markdown",
      "source": [
        "unoptimised SVM"
      ],
      "metadata": {
        "id": "ySmE7_5Xaj1C"
      }
    },
    {
      "cell_type": "code",
      "source": [
        "# Perform a training and testing split, using 80000 samples of training\n",
        "# using 20000 for evaluation\n",
        "\n",
        "(trainX, testX, trainY, testY) = train_test_split(feat_ihog, labels,test_size=0.25,random_state=0,stratify = labels)\n",
        "\n",
        "print(\"[INFO] The original number of features ...\" + str(trainX.shape[1]))\n",
        "\n",
        "pca = PCA(n_components = 47)\n",
        "pc = pca.fit(trainX)\n",
        "trainX = pc.transform(trainX)\n",
        "testX = pc.transform(testX)\n",
        "\n",
        "print(\"[INFO] The number of features after selection ...\" + str(trainX.shape[1]))\n",
        "\n",
        "\n",
        "clf = svm.SVC(C= 5.403,kernel='rbf',gamma= 'scale' , decision_function_shape='ovr')\n",
        "\n",
        "start_time = time.time()\n",
        "model = clf.fit(trainX, trainY)\n",
        "print(\"--- %s seconds ---\" % (time.time() - start_time))\n",
        "\n",
        "# make predictions on our data and show a classification report 5.403\n",
        "print(\"[INFO] evaluating...\")\n",
        "predictions = model.predict(testX)\n",
        "#print(testY,predictions3,le.classes_)\n",
        "\n",
        "\n",
        "report = classification_report(testY, predictions,digits=4)\n",
        "\n",
        "print(report)\n",
        "\n",
        "acc = accuracy_score(testY, predictions)\n",
        "print(\"Accuracy: %.4f%%\" % (acc * 100.0))\n"
      ],
      "metadata": {
        "colab": {
          "base_uri": "https://localhost:8080/"
        },
        "id": "PbH07JocZhOa",
        "outputId": "05903a58-e26a-4920-b4e7-bff962a6c1ee"
      },
      "execution_count": null,
      "outputs": [
        {
          "output_type": "stream",
          "name": "stdout",
          "text": [
            "[INFO] The original number of features ...48\n",
            "[INFO] The number of features after selection ...47\n",
            "--- 11.10674500465393 seconds ---\n",
            "[INFO] evaluating...\n",
            "              precision    recall  f1-score   support\n",
            "\n",
            "           0     0.9975    0.9975    0.9975      2000\n",
            "           1     0.9980    0.9980    0.9980      2000\n",
            "           2     0.9906    0.9960    0.9933      2000\n",
            "           3     0.9965    0.9905    0.9935      2000\n",
            "           4     0.9950    0.9975    0.9963      2000\n",
            "           5     0.9985    0.9975    0.9980      2000\n",
            "           6     0.9975    0.9945    0.9960      2000\n",
            "           7     0.9980    0.9990    0.9985      2000\n",
            "           8     1.0000    0.9995    0.9997      2000\n",
            "           9     0.9955    0.9970    0.9963      2000\n",
            "\n",
            "    accuracy                         0.9967     20000\n",
            "   macro avg     0.9967    0.9967    0.9967     20000\n",
            "weighted avg     0.9967    0.9967    0.9967     20000\n",
            "\n",
            "Accuracy: 99.6700%\n"
          ]
        }
      ]
    },
    {
      "cell_type": "code",
      "source": [
        "# Perform a training and testing split, using 80000 samples of training\n",
        "# using 20000 for evaluation\n",
        "\n",
        "(trainX, testX, trainY, testY) = train_test_split(feat_ihog, labels,test_size=0.25,random_state=0,stratify = labels)\n",
        "\n",
        "print(\"[INFO] The original number of features ...\" + str(trainX.shape[1]))\n",
        "\n",
        "pca = PCA(n_components = 47)\n",
        "pc = pca.fit(trainX)\n",
        "trainX = pc.transform(trainX)\n",
        "testX = pc.transform(testX)\n",
        "\n",
        "print(\"[INFO] The number of features after selection ...\" + str(trainX.shape[1]))\n",
        "\n",
        "clf = svm.SVC(C= 6.06,kernel='rbf',gamma=2.865 , decision_function_shape='ovr')\n",
        "\n",
        "start_time = time.time()\n",
        "model = clf.fit(trainX, trainY)\n",
        "print(\"--- %s seconds ---\" % (time.time() - start_time))\n",
        "\n",
        "# make predictions on our data and show a classification report 5.403\n",
        "print(\"[INFO] evaluating...\")\n",
        "predictions = model.predict(testX)\n",
        "#print(testY,predictions3,le.classes_)\n",
        "\n",
        "\n",
        "report = classification_report(testY, predictions,digits=4)\n",
        "\n",
        "print(report)\n",
        "\n",
        "acc = accuracy_score(testY, predictions)\n",
        "print(\"Accuracy: %.4f%%\" % (acc * 100.0))\n"
      ],
      "metadata": {
        "colab": {
          "base_uri": "https://localhost:8080/"
        },
        "id": "ZRagdqY1anKS",
        "outputId": "c1f4ceef-24eb-4369-937b-3751827b05b8"
      },
      "execution_count": null,
      "outputs": [
        {
          "output_type": "stream",
          "name": "stdout",
          "text": [
            "[INFO] The original number of features ...48\n",
            "[INFO] The number of features after selection ...47\n",
            "--- 14.153786420822144 seconds ---\n",
            "[INFO] evaluating...\n",
            "              precision    recall  f1-score   support\n",
            "\n",
            "           0     0.9975    0.9975    0.9975      2000\n",
            "           1     0.9980    0.9980    0.9980      2000\n",
            "           2     0.9906    0.9960    0.9933      2000\n",
            "           3     0.9965    0.9905    0.9935      2000\n",
            "           4     0.9950    0.9975    0.9963      2000\n",
            "           5     0.9985    0.9975    0.9980      2000\n",
            "           6     0.9980    0.9950    0.9965      2000\n",
            "           7     0.9980    0.9990    0.9985      2000\n",
            "           8     1.0000    0.9995    0.9997      2000\n",
            "           9     0.9960    0.9975    0.9968      2000\n",
            "\n",
            "    accuracy                         0.9968     20000\n",
            "   macro avg     0.9968    0.9968    0.9968     20000\n",
            "weighted avg     0.9968    0.9968    0.9968     20000\n",
            "\n",
            "Accuracy: 99.6800%\n"
          ]
        }
      ]
    },
    {
      "cell_type": "markdown",
      "metadata": {
        "id": "1I5AHql0cGNH"
      },
      "source": [
        "**Plot accuracy versus the number of components**"
      ]
    },
    {
      "cell_type": "code",
      "execution_count": null,
      "metadata": {
        "id": "UstJ0i5Ab4xX",
        "colab": {
          "base_uri": "https://localhost:8080/",
          "height": 337
        },
        "outputId": "abb2fd94-2a32-4bdb-d4e7-402ae72afa41"
      },
      "outputs": [
        {
          "output_type": "display_data",
          "data": {
            "text/html": [
              "<html>\n",
              "<head><meta charset=\"utf-8\" /></head>\n",
              "<body>\n",
              "    <div>            <script src=\"https://cdnjs.cloudflare.com/ajax/libs/mathjax/2.7.5/MathJax.js?config=TeX-AMS-MML_SVG\"></script><script type=\"text/javascript\">if (window.MathJax) {MathJax.Hub.Config({SVG: {font: \"STIX-Web\"}});}</script>                <script type=\"text/javascript\">window.PlotlyConfig = {MathJaxConfig: 'local'};</script>\n",
              "        <script src=\"https://cdn.plot.ly/plotly-2.8.3.min.js\"></script>                <div id=\"096759f1-03eb-45d8-a2b9-0579a36a3276\" class=\"plotly-graph-div\" style=\"height:300px; width:900px;\"></div>            <script type=\"text/javascript\">                                    window.PLOTLYENV=window.PLOTLYENV || {};                                    if (document.getElementById(\"096759f1-03eb-45d8-a2b9-0579a36a3276\")) {                    Plotly.newPlot(                        \"096759f1-03eb-45d8-a2b9-0579a36a3276\",                        [{\"mode\":\"lines+markers\",\"name\":\"Original HOG-PCA\",\"x\":[20,21,22,23,24,25,26,27,28,29,30,31,32,33,34,35,36,37,38,39,40,41,42,43,44,45,46,47,48],\"y\":[99.155,99.155,99.195,99.25500000000001,99.295,99.33,99.345,99.335,99.35000000000001,99.375,99.38,99.38,99.385,99.405,99.395,99.41499999999999,99.405,99.42,99.41499999999999,99.42,99.435,99.45,99.47500000000001,99.48,99.47,99.47,99.48,99.485,99.485],\"type\":\"scatter\",\"textfont\":{\"family\":\"Times New Roman\"}},{\"mode\":\"lines+markers\",\"name\":\"Improved HOG-PCA\",\"x\":[20,21,22,23,24,25,26,27,28,29,30,31,32,33,34,35,36,37,38,39,40,41,42,43,44,45,46,47,48],\"y\":[99.38,99.435,99.455,99.48,99.47,99.495,99.53999999999999,99.54499999999999,99.52499999999999,99.57000000000001,99.575,99.59,99.57000000000001,99.61,99.605,99.63499999999999,99.63499999999999,99.645,99.665,99.655,99.655,99.665,99.655,99.66000000000001,99.655,99.66000000000001,99.67,99.68,99.675],\"type\":\"scatter\",\"textfont\":{\"family\":\"Times New Roman\"}}],                        {\"template\":{\"data\":{\"bar\":[{\"error_x\":{\"color\":\"#2a3f5f\"},\"error_y\":{\"color\":\"#2a3f5f\"},\"marker\":{\"line\":{\"color\":\"#E5ECF6\",\"width\":0.5},\"pattern\":{\"fillmode\":\"overlay\",\"size\":10,\"solidity\":0.2}},\"type\":\"bar\"}],\"barpolar\":[{\"marker\":{\"line\":{\"color\":\"#E5ECF6\",\"width\":0.5},\"pattern\":{\"fillmode\":\"overlay\",\"size\":10,\"solidity\":0.2}},\"type\":\"barpolar\"}],\"carpet\":[{\"aaxis\":{\"endlinecolor\":\"#2a3f5f\",\"gridcolor\":\"white\",\"linecolor\":\"white\",\"minorgridcolor\":\"white\",\"startlinecolor\":\"#2a3f5f\"},\"baxis\":{\"endlinecolor\":\"#2a3f5f\",\"gridcolor\":\"white\",\"linecolor\":\"white\",\"minorgridcolor\":\"white\",\"startlinecolor\":\"#2a3f5f\"},\"type\":\"carpet\"}],\"choropleth\":[{\"colorbar\":{\"outlinewidth\":0,\"ticks\":\"\"},\"type\":\"choropleth\"}],\"contour\":[{\"colorbar\":{\"outlinewidth\":0,\"ticks\":\"\"},\"colorscale\":[[0.0,\"#0d0887\"],[0.1111111111111111,\"#46039f\"],[0.2222222222222222,\"#7201a8\"],[0.3333333333333333,\"#9c179e\"],[0.4444444444444444,\"#bd3786\"],[0.5555555555555556,\"#d8576b\"],[0.6666666666666666,\"#ed7953\"],[0.7777777777777778,\"#fb9f3a\"],[0.8888888888888888,\"#fdca26\"],[1.0,\"#f0f921\"]],\"type\":\"contour\"}],\"contourcarpet\":[{\"colorbar\":{\"outlinewidth\":0,\"ticks\":\"\"},\"type\":\"contourcarpet\"}],\"heatmap\":[{\"colorbar\":{\"outlinewidth\":0,\"ticks\":\"\"},\"colorscale\":[[0.0,\"#0d0887\"],[0.1111111111111111,\"#46039f\"],[0.2222222222222222,\"#7201a8\"],[0.3333333333333333,\"#9c179e\"],[0.4444444444444444,\"#bd3786\"],[0.5555555555555556,\"#d8576b\"],[0.6666666666666666,\"#ed7953\"],[0.7777777777777778,\"#fb9f3a\"],[0.8888888888888888,\"#fdca26\"],[1.0,\"#f0f921\"]],\"type\":\"heatmap\"}],\"heatmapgl\":[{\"colorbar\":{\"outlinewidth\":0,\"ticks\":\"\"},\"colorscale\":[[0.0,\"#0d0887\"],[0.1111111111111111,\"#46039f\"],[0.2222222222222222,\"#7201a8\"],[0.3333333333333333,\"#9c179e\"],[0.4444444444444444,\"#bd3786\"],[0.5555555555555556,\"#d8576b\"],[0.6666666666666666,\"#ed7953\"],[0.7777777777777778,\"#fb9f3a\"],[0.8888888888888888,\"#fdca26\"],[1.0,\"#f0f921\"]],\"type\":\"heatmapgl\"}],\"histogram\":[{\"marker\":{\"pattern\":{\"fillmode\":\"overlay\",\"size\":10,\"solidity\":0.2}},\"type\":\"histogram\"}],\"histogram2d\":[{\"colorbar\":{\"outlinewidth\":0,\"ticks\":\"\"},\"colorscale\":[[0.0,\"#0d0887\"],[0.1111111111111111,\"#46039f\"],[0.2222222222222222,\"#7201a8\"],[0.3333333333333333,\"#9c179e\"],[0.4444444444444444,\"#bd3786\"],[0.5555555555555556,\"#d8576b\"],[0.6666666666666666,\"#ed7953\"],[0.7777777777777778,\"#fb9f3a\"],[0.8888888888888888,\"#fdca26\"],[1.0,\"#f0f921\"]],\"type\":\"histogram2d\"}],\"histogram2dcontour\":[{\"colorbar\":{\"outlinewidth\":0,\"ticks\":\"\"},\"colorscale\":[[0.0,\"#0d0887\"],[0.1111111111111111,\"#46039f\"],[0.2222222222222222,\"#7201a8\"],[0.3333333333333333,\"#9c179e\"],[0.4444444444444444,\"#bd3786\"],[0.5555555555555556,\"#d8576b\"],[0.6666666666666666,\"#ed7953\"],[0.7777777777777778,\"#fb9f3a\"],[0.8888888888888888,\"#fdca26\"],[1.0,\"#f0f921\"]],\"type\":\"histogram2dcontour\"}],\"mesh3d\":[{\"colorbar\":{\"outlinewidth\":0,\"ticks\":\"\"},\"type\":\"mesh3d\"}],\"parcoords\":[{\"line\":{\"colorbar\":{\"outlinewidth\":0,\"ticks\":\"\"}},\"type\":\"parcoords\"}],\"pie\":[{\"automargin\":true,\"type\":\"pie\"}],\"scatter\":[{\"marker\":{\"colorbar\":{\"outlinewidth\":0,\"ticks\":\"\"}},\"type\":\"scatter\"}],\"scatter3d\":[{\"line\":{\"colorbar\":{\"outlinewidth\":0,\"ticks\":\"\"}},\"marker\":{\"colorbar\":{\"outlinewidth\":0,\"ticks\":\"\"}},\"type\":\"scatter3d\"}],\"scattercarpet\":[{\"marker\":{\"colorbar\":{\"outlinewidth\":0,\"ticks\":\"\"}},\"type\":\"scattercarpet\"}],\"scattergeo\":[{\"marker\":{\"colorbar\":{\"outlinewidth\":0,\"ticks\":\"\"}},\"type\":\"scattergeo\"}],\"scattergl\":[{\"marker\":{\"colorbar\":{\"outlinewidth\":0,\"ticks\":\"\"}},\"type\":\"scattergl\"}],\"scattermapbox\":[{\"marker\":{\"colorbar\":{\"outlinewidth\":0,\"ticks\":\"\"}},\"type\":\"scattermapbox\"}],\"scatterpolar\":[{\"marker\":{\"colorbar\":{\"outlinewidth\":0,\"ticks\":\"\"}},\"type\":\"scatterpolar\"}],\"scatterpolargl\":[{\"marker\":{\"colorbar\":{\"outlinewidth\":0,\"ticks\":\"\"}},\"type\":\"scatterpolargl\"}],\"scatterternary\":[{\"marker\":{\"colorbar\":{\"outlinewidth\":0,\"ticks\":\"\"}},\"type\":\"scatterternary\"}],\"surface\":[{\"colorbar\":{\"outlinewidth\":0,\"ticks\":\"\"},\"colorscale\":[[0.0,\"#0d0887\"],[0.1111111111111111,\"#46039f\"],[0.2222222222222222,\"#7201a8\"],[0.3333333333333333,\"#9c179e\"],[0.4444444444444444,\"#bd3786\"],[0.5555555555555556,\"#d8576b\"],[0.6666666666666666,\"#ed7953\"],[0.7777777777777778,\"#fb9f3a\"],[0.8888888888888888,\"#fdca26\"],[1.0,\"#f0f921\"]],\"type\":\"surface\"}],\"table\":[{\"cells\":{\"fill\":{\"color\":\"#EBF0F8\"},\"line\":{\"color\":\"white\"}},\"header\":{\"fill\":{\"color\":\"#C8D4E3\"},\"line\":{\"color\":\"white\"}},\"type\":\"table\"}]},\"layout\":{\"annotationdefaults\":{\"arrowcolor\":\"#2a3f5f\",\"arrowhead\":0,\"arrowwidth\":1},\"autotypenumbers\":\"strict\",\"coloraxis\":{\"colorbar\":{\"outlinewidth\":0,\"ticks\":\"\"}},\"colorscale\":{\"diverging\":[[0,\"#8e0152\"],[0.1,\"#c51b7d\"],[0.2,\"#de77ae\"],[0.3,\"#f1b6da\"],[0.4,\"#fde0ef\"],[0.5,\"#f7f7f7\"],[0.6,\"#e6f5d0\"],[0.7,\"#b8e186\"],[0.8,\"#7fbc41\"],[0.9,\"#4d9221\"],[1,\"#276419\"]],\"sequential\":[[0.0,\"#0d0887\"],[0.1111111111111111,\"#46039f\"],[0.2222222222222222,\"#7201a8\"],[0.3333333333333333,\"#9c179e\"],[0.4444444444444444,\"#bd3786\"],[0.5555555555555556,\"#d8576b\"],[0.6666666666666666,\"#ed7953\"],[0.7777777777777778,\"#fb9f3a\"],[0.8888888888888888,\"#fdca26\"],[1.0,\"#f0f921\"]],\"sequentialminus\":[[0.0,\"#0d0887\"],[0.1111111111111111,\"#46039f\"],[0.2222222222222222,\"#7201a8\"],[0.3333333333333333,\"#9c179e\"],[0.4444444444444444,\"#bd3786\"],[0.5555555555555556,\"#d8576b\"],[0.6666666666666666,\"#ed7953\"],[0.7777777777777778,\"#fb9f3a\"],[0.8888888888888888,\"#fdca26\"],[1.0,\"#f0f921\"]]},\"colorway\":[\"#636efa\",\"#EF553B\",\"#00cc96\",\"#ab63fa\",\"#FFA15A\",\"#19d3f3\",\"#FF6692\",\"#B6E880\",\"#FF97FF\",\"#FECB52\"],\"font\":{\"color\":\"#2a3f5f\"},\"geo\":{\"bgcolor\":\"white\",\"lakecolor\":\"white\",\"landcolor\":\"#E5ECF6\",\"showlakes\":true,\"showland\":true,\"subunitcolor\":\"white\"},\"hoverlabel\":{\"align\":\"left\"},\"hovermode\":\"closest\",\"mapbox\":{\"style\":\"light\"},\"paper_bgcolor\":\"white\",\"plot_bgcolor\":\"#E5ECF6\",\"polar\":{\"angularaxis\":{\"gridcolor\":\"white\",\"linecolor\":\"white\",\"ticks\":\"\"},\"bgcolor\":\"#E5ECF6\",\"radialaxis\":{\"gridcolor\":\"white\",\"linecolor\":\"white\",\"ticks\":\"\"}},\"scene\":{\"xaxis\":{\"backgroundcolor\":\"#E5ECF6\",\"gridcolor\":\"white\",\"gridwidth\":2,\"linecolor\":\"white\",\"showbackground\":true,\"ticks\":\"\",\"zerolinecolor\":\"white\"},\"yaxis\":{\"backgroundcolor\":\"#E5ECF6\",\"gridcolor\":\"white\",\"gridwidth\":2,\"linecolor\":\"white\",\"showbackground\":true,\"ticks\":\"\",\"zerolinecolor\":\"white\"},\"zaxis\":{\"backgroundcolor\":\"#E5ECF6\",\"gridcolor\":\"white\",\"gridwidth\":2,\"linecolor\":\"white\",\"showbackground\":true,\"ticks\":\"\",\"zerolinecolor\":\"white\"}},\"shapedefaults\":{\"line\":{\"color\":\"#2a3f5f\"}},\"ternary\":{\"aaxis\":{\"gridcolor\":\"white\",\"linecolor\":\"white\",\"ticks\":\"\"},\"baxis\":{\"gridcolor\":\"white\",\"linecolor\":\"white\",\"ticks\":\"\"},\"bgcolor\":\"#E5ECF6\",\"caxis\":{\"gridcolor\":\"white\",\"linecolor\":\"white\",\"ticks\":\"\"}},\"title\":{\"x\":0.05},\"xaxis\":{\"automargin\":true,\"gridcolor\":\"white\",\"linecolor\":\"white\",\"ticks\":\"\",\"title\":{\"standoff\":15},\"zerolinecolor\":\"white\",\"zerolinewidth\":2},\"yaxis\":{\"automargin\":true,\"gridcolor\":\"white\",\"linecolor\":\"white\",\"ticks\":\"\",\"title\":{\"standoff\":15},\"zerolinecolor\":\"white\",\"zerolinewidth\":2}}},\"xaxis\":{\"title\":{\"text\":\"Number of components\"}},\"yaxis\":{\"title\":{\"text\":\"Accuracy(%)\"}},\"margin\":{\"l\":20,\"r\":20,\"t\":20,\"b\":20},\"title\":{\"text\":\"(A)\",\"font\":{\"size\":15}},\"autosize\":false,\"width\":900,\"height\":300},                        {\"responsive\": true}                    ).then(function(){\n",
              "                            \n",
              "var gd = document.getElementById('096759f1-03eb-45d8-a2b9-0579a36a3276');\n",
              "var x = new MutationObserver(function (mutations, observer) {{\n",
              "        var display = window.getComputedStyle(gd).display;\n",
              "        if (!display || display === 'none') {{\n",
              "            console.log([gd, 'removed!']);\n",
              "            Plotly.purge(gd);\n",
              "            observer.disconnect();\n",
              "        }}\n",
              "}});\n",
              "\n",
              "// Listen for the removal of the full notebook cells\n",
              "var notebookContainer = gd.closest('#notebook-container');\n",
              "if (notebookContainer) {{\n",
              "    x.observe(notebookContainer, {childList: true});\n",
              "}}\n",
              "\n",
              "// Listen for the clearing of the current output cell\n",
              "var outputEl = gd.closest('.output');\n",
              "if (outputEl) {{\n",
              "    x.observe(outputEl, {childList: true});\n",
              "}}\n",
              "\n",
              "                        })                };                            </script>        </div>\n",
              "</body>\n",
              "</html>"
            ]
          },
          "metadata": {}
        }
      ],
      "source": [
        "fig1 = go.Figure()\n",
        "\n",
        "fig1.add_trace(go.Scatter(mode = \"lines+markers\",x=cp1[19:], y=np.array(accuracy1[19:]) , name=\"Original HOG-PCA\"),)\n",
        "fig1.add_trace(go.Scatter(mode = \"lines+markers\",x=cp1[19:], y=np.array(accuracy2[19:]) , name=\"Improved HOG-PCA\"),)\n",
        "\n",
        "# Set x-axis title\n",
        "fig1.update_xaxes(title_text=\"Number of components\")\n",
        "fig1.update_traces(textfont_family =\"Times New Roman\")\n",
        "\n",
        "# Set y-axes titles\n",
        "fig1.update_yaxes(title_text=\"Accuracy(%)\")\n",
        "fig1.update_traces(textfont_family =\"Times New Roman\")\n",
        "\n",
        "fig1.update_layout(margin=dict(l=20, r=20, t=20, b=20),\n",
        "    title=\"(A)\"\n",
        ",title_font_size=15,autosize=False,\n",
        "    width=900,\n",
        "    height=300)\n",
        "\n",
        "fig1.show()"
      ]
    }
  ],
  "metadata": {
    "colab": {
      "collapsed_sections": [],
      "name": "hoda_48feat_results.ipynb",
      "provenance": []
    },
    "kernelspec": {
      "display_name": "Python 3",
      "name": "python3"
    },
    "language_info": {
      "name": "python"
    }
  },
  "nbformat": 4,
  "nbformat_minor": 0
}